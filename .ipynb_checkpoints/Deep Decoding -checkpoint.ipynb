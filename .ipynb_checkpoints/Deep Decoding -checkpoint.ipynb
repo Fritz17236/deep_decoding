{
 "cells": [
  {
   "cell_type": "code",
   "execution_count": 94,
   "id": "fifteen-negotiation",
   "metadata": {
    "scrolled": true
   },
   "outputs": [],
   "source": [
    "import os\n",
    "import numpy as np\n",
    "import pandas as pd\n",
    "import matplotlib.pyplot as plt\n",
    "from matplotlib.colors import SymLogNorm\n",
    "import pynwb\n",
    "from allensdk.brain_observatory.ecephys.ecephys_project_cache import EcephysProjectCache\n",
    "from allensdk.core.brain_observatory_cache import BrainObservatoryCache\n",
    "import pprint\n",
    "from PIL import Image\n",
    "from sklearn.model_selection import train_test_split"
   ]
  },
  {
   "cell_type": "markdown",
   "id": "musical-tractor",
   "metadata": {},
   "source": [
    "# Data Access & Preprocessing"
   ]
  },
  {
   "cell_type": "markdown",
   "id": "bright-craps",
   "metadata": {},
   "source": [
    "### Load Cache To Access & Manage Data"
   ]
  },
  {
   "cell_type": "code",
   "execution_count": 2,
   "id": "brazilian-relief",
   "metadata": {
    "code_folding": [
     0
    ]
   },
   "outputs": [],
   "source": [
    "def load_cache():\n",
    "    '''\n",
    "    Load the cache containing allensdk dataset \n",
    "    '''\n",
    "    # this path determines where downloaded data will be stored\n",
    "    manifest_path = os.path.join('/local1/ecephys_cache_dir/', \"manifest.json\")\n",
    "    return EcephysProjectCache.from_warehouse(manifest=manifest_path)"
   ]
  },
  {
   "cell_type": "code",
   "execution_count": 3,
   "id": "refined-debut",
   "metadata": {},
   "outputs": [],
   "source": [
    "cache = load_cache()"
   ]
  },
  {
   "cell_type": "markdown",
   "id": "silver-satin",
   "metadata": {},
   "source": [
    "### Load Session Data"
   ]
  },
  {
   "cell_type": "code",
   "execution_count": 4,
   "id": "complete-construction",
   "metadata": {
    "code_folding": [
     0,
     7,
     19
    ],
    "scrolled": true
   },
   "outputs": [],
   "source": [
    "def get_session_ids(cache, stimulus_type='functional_connectivity'):\n",
    "    '''\n",
    "    Get a list of session id's in the dataset with [stimulus_type] stimulus shown\n",
    "    '''\n",
    "    sessions = cache.get_session_table()\n",
    "    return sessions[sessions[\"session_type\"] == stimulus_type].index.values\n",
    "\n",
    "def load_session_by_id(cache, session_id):\n",
    "    '''\n",
    "    Get the session data for the given session id from the given data cache\n",
    "    '''\n",
    "    \n",
    "    print('Loading session {0} ...'.format(session_id), end='')\n",
    "\n",
    "    sess = cache.get_session_data(session_id)\n",
    "    \n",
    "    print('done')\n",
    "    return sess\n",
    " \n",
    "def load_session_by_idx(cache, idx):\n",
    "    ''' \n",
    "    Given an index between [0, ..., num_sessions], get a session corresponding to index\n",
    "    return the session data and the session id\n",
    "    '''\n",
    "    \n",
    "    session_id = get_session_ids(cache)[idx]\n",
    "    return load_session_by_id(cache, session_id), session_id\n"
   ]
  },
  {
   "cell_type": "code",
   "execution_count": 517,
   "id": "covered-sequence",
   "metadata": {},
   "outputs": [
    {
     "name": "stdout",
     "output_type": "stream",
     "text": [
      "Loading session 847657808 ...done\n"
     ]
    }
   ],
   "source": [
    "session, session_id = load_session_by_idx(cache, -1)"
   ]
  },
  {
   "cell_type": "code",
   "execution_count": 518,
   "id": "exempt-operations",
   "metadata": {},
   "outputs": [],
   "source": [
    "region = 'VISp'\n",
    "\n",
    "\n"
   ]
  },
  {
   "cell_type": "markdown",
   "id": "signal-steering",
   "metadata": {},
   "source": [
    "### Extract Stimulus Presentation Data"
   ]
  },
  {
   "cell_type": "code",
   "execution_count": 519,
   "id": "stock-playlist",
   "metadata": {
    "code_folding": [
     0,
     6,
     30,
     44,
     66
    ]
   },
   "outputs": [],
   "source": [
    "def get_neurons_by_region(session, region):\n",
    "    '''\n",
    "    Return a list of neuron (unit) id's according to their anatomical region e.g. \"VISp\" for primary visual cortex\n",
    "    '''\n",
    "    return session.units.loc[session.units.ecephys_structure_acronym==region].index.values\n",
    "    \n",
    "def get_stim_experiment_data(session, stim_name='natural_movie_one_more_repeats', region = 'VISp'):\n",
    "    '''\n",
    "    Return a pd dataframe of stimulus presentation information (e.g. frame,  time, etc.) for the stimulus [stimulus_name]\n",
    "    if presented in the session\n",
    "    '''\n",
    "    print('Loading experiment stimulus data...', end='')\n",
    "\n",
    "    stim_table = session.stimulus_presentations\n",
    "    stim_table = stim_table.loc[stim_table.stimulus_name==stim_name,  :]\n",
    "    \n",
    "    #stim_table.start_time = np.unwrap(stim_table.start_time)\n",
    "    t_start = stim_table.start_time.values[0]\n",
    "    t_end = stim_table.start_time.values[-1]\n",
    "    \n",
    "    print('done')\n",
    "    \n",
    "    return {\n",
    "        'stim_table' : stim_table,\n",
    "        't_start' : t_start,\n",
    "        't_end' : t_end,\n",
    "        'units' : session.units.index.values, #get_neurons_by_region(session, region),\n",
    "        'refresh_rate' : np.diff(stim_table.start_time.values)[0]\n",
    "    }\n",
    "\n",
    "def get_presentation_times(stim_data):\n",
    "    '''\n",
    "     Return the times at which each image is presented as an ndarray\n",
    "    '''\n",
    "    t_start = stim_data['stim_table'].start_time.values[0]\n",
    "    t_end = stim_data['stim_table'].start_time.values[-1]\n",
    "    #t_start = stim_data['t_start']\n",
    "    #t_end = stim_data['t_end']\n",
    "    ts = stim_data['stim_table'].start_time.values\n",
    "    ts = ts[ts < t_end]\n",
    "    ts = ts[ts > t_start]\n",
    "    \n",
    "    return ts\n",
    "    \n",
    "def get_stimulus_frames(cache, stim_name='natural_movie_one_more_repeats', desired_size=None):\n",
    "    '''\n",
    "    Return the frames (pixel data) of the stimulus given by [stim_name]. The \n",
    "    resulting numpy array has shape (num_frames, num_pixels_x, num_pixels_y). If desired size is specified,\n",
    "    resulting frames are resized/resampled. \n",
    "    '''\n",
    "    if stim_name == 'natural_movie_one_more_repeats':\n",
    "        frames = cache.get_natural_movie_template(1)\n",
    "    else:\n",
    "        assert(False), \"Bad Stim Name\"\n",
    "        \n",
    "    if desired_size:\n",
    "        resized_frames = np.zeros((frames.shape[0], desired_size[1], desired_size[0]), dtype=np.int16)\n",
    "        for i in range(frames.shape[0]):\n",
    "            img = Image.fromarray(frames[i,:,:])\n",
    "            resized_image = img.resize(size = desired_size)            \n",
    "            resized_frames[i,:,:] = np.asarray(resized_image, dtype = np.int16) - 128\n",
    "        \n",
    "        return resized_frames\n",
    "    else:\n",
    "        return None\n",
    "    \n",
    "def get_presentation_frame_numbers(stim_data):\n",
    "    '''\n",
    "    Return which frames were presented at each time step. Provides indexes to access output \n",
    "    from get_stimulus_frames. Each frame number is between [0, num_frames].\n",
    "    '''\n",
    "    t_start = stim_data['t_start']\n",
    "    t_end = stim_data['t_end']\n",
    "    return stim_data['stim_table'].frame.values.astype(np.int)"
   ]
  },
  {
   "cell_type": "code",
   "execution_count": 586,
   "id": "mighty-raising",
   "metadata": {
    "code_folding": []
   },
   "outputs": [
    {
     "name": "stdout",
     "output_type": "stream",
     "text": [
      "Loading experiment stimulus data...done\n"
     ]
    }
   ],
   "source": [
    "stim_data =  get_stim_experiment_data(session)\n",
    "h_res = 128\n",
    "v_res = 64\n",
    "movie = get_stimulus_frames(cache, desired_size = (h_res, v_res))\n",
    "frames = get_presentation_frame_numbers(stim_data)\n",
    "num_neurons = len(stim_data['units'])"
   ]
  },
  {
   "cell_type": "markdown",
   "id": "qualified-bookmark",
   "metadata": {},
   "source": [
    "\n",
    "\n",
    "### Load and Bin Spike Data"
   ]
  },
  {
   "cell_type": "code",
   "execution_count": 587,
   "id": "excellent-buffalo",
   "metadata": {
    "code_folding": [
     0,
     51
    ]
   },
   "outputs": [],
   "source": [
    "def get_spike_data(session, stim_data):\n",
    "    '''\n",
    "    Given a session, return the spike times for units (probes) lying between t_start and t_end\n",
    "    as a dictionary with keys [unit_number] and values [list(spike times for unit_number)]. \n",
    "    '''\n",
    "    print('Extracting spike data ...', end='')\n",
    "    spike_times = {}\n",
    "    units = stim_data['units']\n",
    "    t_start = stim_data['t_start']\n",
    "    t_end = stim_data['t_end']\n",
    "    \n",
    "    for unit in units:\n",
    "        this_unit_spikes = session.spike_times[unit]\n",
    "        this_unit_spikes = this_unit_spikes[this_unit_spikes > t_start]\n",
    "        this_unit_spikes = this_unit_spikes[this_unit_spikes < t_end]\n",
    "        spike_times[unit] = this_unit_spikes\n",
    "        \n",
    "    print(' done')\n",
    "    return spike_times\n",
    "    \n",
    "def bin_spikes(ts, spike_times, bin_width, stim_data):\n",
    "    '''\n",
    "    Given an array of times, a dictionary of (unit : [spike_times]) of spikes in a time interval, split the time interval into non-overlapping\n",
    "    bins with width [bin_width] * dt  miliseconds and count the spikes falling in each bin for each unit. Returns a \n",
    "    (num_units, num_bins) numpy array of spike rates (divides by length of time interval); returns a (num_bins) \n",
    "    numpy array of bin times (left sided)\n",
    "    '''\n",
    "    \n",
    "    print(\"Binning spike data with bin width = {0} ... \".format(bin_width), end='')\n",
    "    \n",
    "    units = stim_data['units']\n",
    "    t_start = stim_data['t_start']\n",
    "    t_end = stim_data['t_end']\n",
    "    \n",
    "    bins = ts[0:-1:bin_width]\n",
    "    \n",
    "    binned_spikes = np.zeros((len(units), len(bins) + 1))\n",
    "    \n",
    "    for unit_idx, unit in enumerate(units):\n",
    "        this_unit_spikes = spike_times[unit]\n",
    "        this_unit_binned_indices = np.digitize(this_unit_spikes, bins) \n",
    "        print(this_unit_binned_indices)\n",
    "        print(this_unit_spikes)\n",
    "        print(bins)\n",
    "        assert(False)\n",
    "        binned_spikes[unit_idx, :] = np.bincount(this_unit_binned_indices, minlength = len(bins)+1)\n",
    "            \n",
    "    print('done')\n",
    "\n",
    "    return binned_spikes / bin_width, bins    \n",
    "\n",
    "def smooth_times(ts, spike_times, stim_data):\n",
    "    '''\n",
    "    If there are any discontinuities in the presentation time, remove them from the spike times and adjust the end time\n",
    "    '''\n",
    "    jump_threshold = 1 #* stim_data['refresh_rate']\n",
    "    \n",
    "    print('Smoothing data ... ',end='')\n",
    "    ts_smoothed = ts.copy()\n",
    "    spike_times_smoothed = spike_times.copy()\n",
    "    units = stim_data['units']\n",
    "    \n",
    "    \n",
    "    for idx, t in enumerate(ts[:-2]):\n",
    "        diff = ts[idx + 1] - ts[idx]\n",
    "        if  diff > jump_threshold:\n",
    "            print('Jump in Time Found DIFF = {0}'.format(diff))\n",
    "            ts_smoothed[idx +1 :] -= diff - stim_data['refresh_rate']\n",
    "            for unit in units:\n",
    "                \n",
    "                this_unit_spikes = spike_times[unit]\n",
    "                #print(this_unit_spikes)\n",
    "                this_unit_spikes[this_unit_spikes > t] -= diff \n",
    "                #print(this_unit_spikes)\n",
    "                spike_times_smoothed[unit] = this_unit_spikes\n",
    "        \n",
    "            stim_data['t_end'] -= diff\n",
    "            \n",
    "    print('done')\n",
    "    return ts_smoothed, spike_times_smoothed, stim_data\n"
   ]
  },
  {
   "cell_type": "code",
   "execution_count": 588,
   "id": "scientific-gates",
   "metadata": {},
   "outputs": [
    {
     "name": "stdout",
     "output_type": "stream",
     "text": [
      "Extracting spike data ... done\n",
      "Smoothing data ... Jump in Time Found DIFF = 4203.524980977976\n",
      "done\n"
     ]
    },
    {
     "data": {
      "image/png": "[encoded data removed]",
      "text/plain": [
       "<Figure size 432x288 with 1 Axes>"
      ]
     },
     "metadata": {
      "needs_background": "light"
     },
     "output_type": "display_data"
    },
    {
     "name": "stdout",
     "output_type": "stream",
     "text": [
      "Binning spike data with bin width = 1 ... [   28    38    75 ... 53914 53921 53962]\n",
      "[2291.43602464 2291.77192148 2293.0027099  ... 4089.13778733 4089.36758516\n",
      " 4090.74217223]\n",
      "[2290.52480098 2290.558162   2290.59152302 ... 4091.82120011 4091.85456009\n",
      " 4091.88792006]\n"
     ]
    },
    {
     "ename": "AssertionError",
     "evalue": "",
     "output_type": "error",
     "traceback": [
      "\u001b[1;31m---------------------------------------------------------------------------\u001b[0m",
      "\u001b[1;31mAssertionError\u001b[0m                            Traceback (most recent call last)",
      "\u001b[1;32m<ipython-input-588-7f7509f099b3>\u001b[0m in \u001b[0;36m<module>\u001b[1;34m\u001b[0m\n\u001b[0;32m     11\u001b[0m \u001b[1;33m\u001b[0m\u001b[0m\n\u001b[0;32m     12\u001b[0m \u001b[0mnum_timesteps_bin_width\u001b[0m \u001b[1;33m=\u001b[0m \u001b[1;36m1\u001b[0m \u001b[1;31m# bin width in number of time steps\u001b[0m\u001b[1;33m\u001b[0m\u001b[1;33m\u001b[0m\u001b[0m\n\u001b[1;32m---> 13\u001b[1;33m \u001b[0mbinned_spikes\u001b[0m\u001b[1;33m,\u001b[0m \u001b[0mbin_times\u001b[0m \u001b[1;33m=\u001b[0m \u001b[0mbin_spikes\u001b[0m\u001b[1;33m(\u001b[0m\u001b[0mts_smoothed\u001b[0m\u001b[1;33m,\u001b[0m \u001b[0mspike_times_smoothed\u001b[0m\u001b[1;33m,\u001b[0m \u001b[0mnum_timesteps_bin_width\u001b[0m\u001b[1;33m,\u001b[0m \u001b[0mstim_data_smoothed\u001b[0m\u001b[1;33m)\u001b[0m\u001b[1;33m\u001b[0m\u001b[1;33m\u001b[0m\u001b[0m\n\u001b[0m\u001b[0;32m     14\u001b[0m \u001b[0mprint\u001b[0m\u001b[1;33m(\u001b[0m\u001b[1;34m' \\n Binned Spike Rates: \\n {0} '\u001b[0m\u001b[1;33m.\u001b[0m\u001b[0mformat\u001b[0m\u001b[1;33m(\u001b[0m\u001b[0mbinned_spikes\u001b[0m\u001b[1;33m)\u001b[0m\u001b[1;33m)\u001b[0m\u001b[1;33m\u001b[0m\u001b[1;33m\u001b[0m\u001b[0m\n\u001b[0;32m     15\u001b[0m \u001b[0mprint\u001b[0m\u001b[1;33m(\u001b[0m\u001b[1;34m'\\n Bin Times: \\n {0} '\u001b[0m\u001b[1;33m.\u001b[0m\u001b[0mformat\u001b[0m\u001b[1;33m(\u001b[0m\u001b[0mbin_times\u001b[0m\u001b[1;33m)\u001b[0m\u001b[1;33m)\u001b[0m\u001b[1;33m\u001b[0m\u001b[1;33m\u001b[0m\u001b[0m\n",
      "\u001b[1;32m<ipython-input-587-006f48097f78>\u001b[0m in \u001b[0;36mbin_spikes\u001b[1;34m(ts, spike_times, bin_width, stim_data)\u001b[0m\n\u001b[0;32m     43\u001b[0m         \u001b[0mprint\u001b[0m\u001b[1;33m(\u001b[0m\u001b[0mthis_unit_spikes\u001b[0m\u001b[1;33m)\u001b[0m\u001b[1;33m\u001b[0m\u001b[1;33m\u001b[0m\u001b[0m\n\u001b[0;32m     44\u001b[0m         \u001b[0mprint\u001b[0m\u001b[1;33m(\u001b[0m\u001b[0mbins\u001b[0m\u001b[1;33m)\u001b[0m\u001b[1;33m\u001b[0m\u001b[1;33m\u001b[0m\u001b[0m\n\u001b[1;32m---> 45\u001b[1;33m         \u001b[1;32massert\u001b[0m\u001b[1;33m(\u001b[0m\u001b[1;32mFalse\u001b[0m\u001b[1;33m)\u001b[0m\u001b[1;33m\u001b[0m\u001b[1;33m\u001b[0m\u001b[0m\n\u001b[0m\u001b[0;32m     46\u001b[0m         \u001b[0mbinned_spikes\u001b[0m\u001b[1;33m[\u001b[0m\u001b[0munit_idx\u001b[0m\u001b[1;33m,\u001b[0m \u001b[1;33m:\u001b[0m\u001b[1;33m]\u001b[0m \u001b[1;33m=\u001b[0m \u001b[0mnp\u001b[0m\u001b[1;33m.\u001b[0m\u001b[0mbincount\u001b[0m\u001b[1;33m(\u001b[0m\u001b[0mthis_unit_binned_indices\u001b[0m\u001b[1;33m,\u001b[0m \u001b[0mminlength\u001b[0m \u001b[1;33m=\u001b[0m \u001b[0mlen\u001b[0m\u001b[1;33m(\u001b[0m\u001b[0mbins\u001b[0m\u001b[1;33m)\u001b[0m\u001b[1;33m+\u001b[0m\u001b[1;36m1\u001b[0m\u001b[1;33m)\u001b[0m\u001b[1;33m\u001b[0m\u001b[1;33m\u001b[0m\u001b[0m\n\u001b[0;32m     47\u001b[0m \u001b[1;33m\u001b[0m\u001b[0m\n",
      "\u001b[1;31mAssertionError\u001b[0m: "
     ]
    }
   ],
   "source": [
    "ts = get_presentation_times(stim_data)\n",
    "dt = np.round(ts[1] - ts[0], decimals=4)  # time step \n",
    "spike_times = get_spike_data(session, stim_data)\n",
    "ts_smoothed, spike_times_smoothed, stim_data_smoothed = smooth_times(ts, spike_times, stim_data)\n",
    "\n",
    "plt.title(\"Time Elapsed vs Array Index Number (Check for Jumps in Time)\")\n",
    "plt.xlabel('Array Index')\n",
    "plt.ylabel(\"Time Elapsed\")\n",
    "plt.plot((ts_smoothed))\n",
    "plt.show()\n",
    "\n",
    "num_timesteps_bin_width = 1 # bin width in number of time steps\n",
    "binned_spikes, bin_times = bin_spikes(ts_smoothed, spike_times_smoothed, num_timesteps_bin_width, stim_data_smoothed)\n",
    "print(' \\n Binned Spike Rates: \\n {0} '.format(binned_spikes))\n",
    "print('\\n Bin Times: \\n {0} '.format(bin_times))\n"
   ]
  },
  {
   "cell_type": "code",
   "execution_count": 582,
   "id": "foster-front",
   "metadata": {},
   "outputs": [
    {
     "data": {
      "text/plain": [
       "array([12901.,     0.,     0., ...,     0.,     0.,     0.])"
      ]
     },
     "execution_count": 582,
     "metadata": {},
     "output_type": "execute_result"
    }
   ],
   "source": [
    "binned_spikes[0,:]"
   ]
  },
  {
   "cell_type": "markdown",
   "id": "brazilian-absolute",
   "metadata": {},
   "source": [
    "### Z-Score Spike Rates & Align Spikes to Stimulus Frames"
   ]
  },
  {
   "cell_type": "code",
   "execution_count": 533,
   "id": "incorrect-knife",
   "metadata": {
    "code_folding": [
     0,
     1
    ]
   },
   "outputs": [],
   "source": [
    "def z_score_binned_spikes(binned_spikes):\n",
    "    '''\n",
    "        Transform binned spikes to zero mean unit variance data along the time axis (2nd dim)\n",
    "    '''\n",
    "    \n",
    "    means = np.mean(binned_spikes, axis = 1, keepdims = True)\n",
    "    stds = np.std(binned_spikes, axis = 1, keepdims = True)\n",
    "    \n",
    "    binned_spikes -= means\n",
    "    binned_spikes /= stds\n",
    "    \n",
    "    return binned_spikes\n",
    "\n",
    "def align_frames_spike_rates(binned_spikes, movie, num_timesteps_delay = 0):\n",
    "    '''\n",
    "    Return spike rates and image stimulus as aligned matrices.\n",
    "    Aligning is shifting binned spikes forward in time by [num_timesteps_delay] * dt\n",
    "    '''\n",
    "    # 100 mS delay given by 3 * dt\n",
    "    \n",
    "    # If using Jupyter, these may already be declared and cause memory allocation issues (using 64gb ram on this machine)\n",
    "    Y = None\n",
    "    X = None\n",
    "    \n",
    "    \n",
    "    # Input data is binned spikes shifted by num_timesteps_delay\n",
    "    num_samples = binned_spikes.shape[1] - num_timesteps_delay\n",
    "    num_pixels = len(movie[0,:,:].flatten())\n",
    "    num_neurons = binned_spikes.shape[0]\n",
    "        \n",
    "    X = np.zeros((num_neurons, num_samples))    \n",
    "    Y = np.zeros((num_pixels, num_samples), dtype = np.int16)\n",
    "\n",
    "    \n",
    "    for i in range(X.shape[1]):\n",
    "        Y[:, i] = movie[frames[i], :,:].flatten()\n",
    "        X[:, i] = binned_spikes[:, i + num_timesteps_delay]\n",
    "    return X, Y"
   ]
  },
  {
   "cell_type": "code",
   "execution_count": 534,
   "id": "electrical-eight",
   "metadata": {},
   "outputs": [
    {
     "data": {
      "text/plain": [
       "(874, 53998)"
      ]
     },
     "execution_count": 534,
     "metadata": {},
     "output_type": "execute_result"
    }
   ],
   "source": [
    "frames.shape\n",
    "binned_spikes.shape"
   ]
  },
  {
   "cell_type": "code",
   "execution_count": 535,
   "id": "biblical-noise",
   "metadata": {},
   "outputs": [
    {
     "name": "stderr",
     "output_type": "stream",
     "text": [
      "C:\\Users\\fritz\\.conda\\envs\\py36\\lib\\site-packages\\ipykernel_launcher.py:2: MatplotlibDeprecationWarning: default base will change from np.e to 10 in 3.4.  To suppress this warning specify the base keyword argument.\n",
      "  \n"
     ]
    },
    {
     "data": {
      "image/png": "[encoded data removed]",
      "text/plain": [
       "<Figure size 432x288 with 1 Axes>"
      ]
     },
     "metadata": {
      "needs_background": "light"
     },
     "output_type": "display_data"
    },
    {
     "name": "stdout",
     "output_type": "stream",
     "text": [
      "(874, 53997) (8192, 53997)\n"
     ]
    }
   ],
   "source": [
    "spike_rates = z_score_binned_spikes(binned_spikes)\n",
    "plt.imshow(spike_rates, norm = SymLogNorm(linthresh=1), aspect = 'auto')\n",
    "plt.title('Spike Rates Over Stimulus Presentation')\n",
    "plt.show()\n",
    "\n",
    "X, Y = align_frames_spike_rates(binned_spikes, movie, num_timesteps_delay = num_timesteps_bin_width)\n",
    "print(X.shape, Y.shape)"
   ]
  },
  {
   "cell_type": "code",
   "execution_count": null,
   "id": "cloudy-acrylic",
   "metadata": {},
   "outputs": [],
   "source": []
  },
  {
   "cell_type": "markdown",
   "id": "adjusted-heating",
   "metadata": {},
   "source": [
    "# Least Squares Regression Baseline "
   ]
  },
  {
   "cell_type": "markdown",
   "id": "streaming-cancer",
   "metadata": {},
   "source": [
    "### Split data into train/test sets, run linear regression on train set & compute test "
   ]
  },
  {
   "cell_type": "code",
   "execution_count": null,
   "id": "mexican-operations",
   "metadata": {},
   "outputs": [],
   "source": [
    "X_train, X_test, Y_train, Y_test = train_test_split(X.T, Y.T, test_size=0.1, random_state=0)"
   ]
  },
  {
   "cell_type": "code",
   "execution_count": null,
   "id": "caroline-court",
   "metadata": {},
   "outputs": [],
   "source": [
    "filters, residuals, rank, sing_vals = np.linalg.lstsq(X_train, Y_train, rcond=None)"
   ]
  },
  {
   "cell_type": "code",
   "execution_count": null,
   "id": "ignored-serbia",
   "metadata": {},
   "outputs": [],
   "source": [
    "X_tdag = np.linalg.pinv(X.T) \n",
    "#X_Tdag.shape\n",
    "X_tdag.shape, X.shape\n",
    "#X.T.shape\n",
    "\n",
    "#Y.T.shape\n",
    "filters = X_tdag @ Y.T\n",
    "\n"
   ]
  },
  {
   "cell_type": "code",
   "execution_count": null,
   "id": "arctic-spider",
   "metadata": {},
   "outputs": [],
   "source": []
  },
  {
   "cell_type": "code",
   "execution_count": null,
   "id": "minimal-insight",
   "metadata": {
    "code_folding": []
   },
   "outputs": [],
   "source": [
    "# get predictions for each of training set\n",
    "y_hat_train = filters.T @ X_train.T\n",
    "print(y_hat_train.shape)\n",
    "\n",
    "\n",
    "num = 100\n",
    "\n",
    "plt.figure()\n",
    "plt.imshow(y_hat_train[:, num].reshape(v_res, h_res) + 128)\n",
    "\n",
    "\n",
    "\n",
    "plt.figure()\n",
    "plt.imshow(Y_train[num, :].reshape(v_res, h_res) + 128)\n",
    "plt.show()\n",
    "# evaluate predictions for each of training set\n",
    "    \n",
    "\n",
    "\n",
    "# idx = 99\n",
    "# sweep = 1\n",
    "# plt.imshow(np.sum(filters[idx : idx + sweep,:], axis = 0).reshape((128, 64)).T, cmap='jet')\n",
    "# plt.show()"
   ]
  },
  {
   "cell_type": "code",
   "execution_count": null,
   "id": "daily-cream",
   "metadata": {},
   "outputs": [],
   "source": []
  },
  {
   "cell_type": "markdown",
   "id": "vocal-investigation",
   "metadata": {},
   "source": [
    "# Load Movie Frames for Stimulus Presentation"
   ]
  },
  {
   "cell_type": "code",
   "execution_count": null,
   "id": "billion-session",
   "metadata": {
    "code_folding": [
     0,
     3,
     10,
     16
    ]
   },
   "outputs": [],
   "source": [
    "# load and compress stimulus movie \n",
    "\n",
    "\n",
    "def downsample_movie(movie, new_vert_res, new_horiz_res):\n",
    "    '''\n",
    "    Given a  (num_frames, vert_res, horiz_res) numpy greyscale array, downsample the movie to \n",
    "    (num_frames, new_vert_res, new_horiz_res), where  new_vert_res < vert_res, new_horiz_res < horiz_res.\n",
    "    '''\n",
    "    pass\n",
    "\n",
    "def compress_image(image):\n",
    "    '''\n",
    "    Compress a given image using DCT-based JPEG compression with Q=50 quantization quality\n",
    "    '''\n",
    "    pass\n",
    "\n",
    "def decompress_image(compressed_image):\n",
    "    '''\n",
    "    decompress a dct-compressed image\n",
    "    '''\n"
   ]
  },
  {
   "cell_type": "code",
   "execution_count": null,
   "id": "still-bedroom",
   "metadata": {},
   "outputs": [],
   "source": [
    "movie = get_natural_movie_one()\n"
   ]
  },
  {
   "cell_type": "code",
   "execution_count": null,
   "id": "traditional-order",
   "metadata": {
    "code_folding": [
     0,
     7,
     13
    ]
   },
   "outputs": [],
   "source": [
    "def align_frames_to_bins(bin_times, stim_experiement_data):\n",
    "    '''\n",
    "    Given a (num_bins) numpy array [bin_times],  and stimulus experiment data, return a (num_bins) numpy array of\n",
    "    frames, where each frame is presented as close as possible to before the given bin time. \n",
    "    '''\n",
    "    pass\n",
    "\n",
    "def get_compressed_movie(movie):\n",
    "    '''\n",
    "    Compress each frame of the given movie and return the remaining DCT coefficients as a numpy array\n",
    "    '''\n",
    "    pass\n",
    "\n",
    "def get_compressed_images_aligned_to_spikes(aligned_frames, compressed_movie):\n",
    "    '''\n",
    "    Given a (num_bins) array of frames for each time step in the presented stimulus, and (num_pixels, num_frames) matrix of compressed\n",
    "    movie frames,  return a (num_pixels, num_bins) array of compressed coefficients corresponding to the presented frame at each time step. \n",
    "    '''"
   ]
  },
  {
   "cell_type": "code",
   "execution_count": null,
   "id": "korean-cartridge",
   "metadata": {
    "code_folding": [
     2
    ],
    "scrolled": true
   },
   "outputs": [],
   "source": [
    "# linear regression analysis (baseline)\n",
    "\n",
    "def get_linear_filters(spike_rates, images):\n",
    "    '''\n",
    "    Use least squares to get the optimal linear filters that map (num_images, num_units) spike rates to (num_images, num_pixels) \n",
    "    movie frames.\n",
    "    '''\n",
    "    pass\n",
    "# matrix least squares to get linear filters for dct coefficients \n",
    "\n",
    "\n",
    "# plot the lienar filter for a given unit. \n",
    "# units,  spike times \n",
    "\n",
    "# for each image, \n",
    "    # find the presentation time of that image\n",
    "    # get array of spike times from units \n",
    "\n",
    "# session.metadata\n",
    "\n",
    "# dir(cache)\n",
    "\n",
    "# dir(cache.get_natural_scene_template(0))\n",
    "stim_name = 'natural_movie_one_more_repeats'\n",
    "\n",
    "# plt.imshow(cache.get_natural_scene_template(5))\n",
    "\n",
    "# stim_table.stimulus_name.value_counts()\n",
    "\n",
    "# stim_params = session.get_stimulus_parameter_values(282)\n",
    "\n",
    "v_res = movie_one.shape[1]\n",
    "h_res = movie_one.shape[2]"
   ]
  },
  {
   "cell_type": "code",
   "execution_count": null,
   "id": "angry-locking",
   "metadata": {},
   "outputs": [],
   "source": []
  },
  {
   "cell_type": "code",
   "execution_count": null,
   "id": "nuclear-sapphire",
   "metadata": {},
   "outputs": [],
   "source": [
    "#plt.imshow(movie_one[10,:,:])\n",
    "print(movie_one.shape)\n",
    "natural_stim_table.head()"
   ]
  },
  {
   "cell_type": "code",
   "execution_count": null,
   "id": "seasonal-samba",
   "metadata": {},
   "outputs": [],
   "source": [
    "natural_stim_table.head()\n",
    "image_frame_times = natural_stim_table[[\"frame\", \"start_time\"]]\n",
    "\n",
    "integration_time = .1  # integrate spikes over 100 miliseconds \n",
    "\n",
    "unit_names = session.units.index.values\n",
    "spike_times = session.spike_times\n",
    "\n",
    "stim_start_time = image_frame_times.start_time.iloc[0]\n",
    "stim_end_time = image_frame_times.start_time.iloc[-1]\n",
    "\n",
    "stim_presentation_window = stim_end_time - stim_start_time \n",
    "stim_presentation_times = image_frame_times.start_time[(stim_end_time - image_frame_times.start_time) > integration_time]\n",
    "frames = image_frame_times.frame[(stim_end_time - image_frame_times.start_time) > integration_time].values.astype(int)\n",
    "\n",
    "images = np.zeros((len(movie_one[0,:,:].flatten()), len(frames)), dtype=np.float32)\n",
    "\n",
    "for frame_idx, frame in enumerate(frames): \n",
    "    images[:, frame_idx] = movie_one[frames[frame_idx],:,:].flatten()\n",
    "    \n",
    "num_units = len(unit_names)\n",
    "num_timesteps = len(stim_presentation_times)"
   ]
  },
  {
   "cell_type": "code",
   "execution_count": null,
   "id": "chemical-adult",
   "metadata": {},
   "outputs": [],
   "source": [
    "images.shape"
   ]
  },
  {
   "cell_type": "code",
   "execution_count": null,
   "id": "front-anime",
   "metadata": {},
   "outputs": [],
   "source": [
    "#unit_info = session.electrode_locations\n",
    "spike_rates = np.zeros((num_units, num_timesteps))\n",
    "\n",
    "for t_idx, t in enumerate(stim_presentation_times):\n",
    "    print('t = {0} / {1}'.format(t_idx + 1, len(stim_presentation_times)))\n",
    "    for unit_idx, unit in enumerate(unit_names):\n",
    "        this_unit_spikes = spike_times[unit]\n",
    "        this_unit_spikes = this_unit_spikes[this_unit_spikes > t]   # spike times > t\n",
    "        this_unit_spikes = this_unit_spikes[this_unit_spikes < (t + integration_time)]  # spike times < t + integration time \n",
    "        \n",
    "        spike_rates[unit_idx, t_idx] = np.sum( this_unit_spikes) / integration_time\n",
    "\n",
    "#  TODO: Vectorize\n",
    "\n",
    "#len(spike_times.keys())\n",
    "#unit_info.#\n",
    "\n",
    "#=  pd.DataFrame(session.spike_times)"
   ]
  },
  {
   "cell_type": "code",
   "execution_count": null,
   "id": "chicken-aquarium",
   "metadata": {},
   "outputs": [],
   "source": [
    "spike_rates = np.loadtxt('spike_rates_session_847657808_2290.491439954788-8295.446259976812.csv',delimiter=',')\n",
    "images = np.loadtxt('images_session_847657808_2290.491439954788-8295.446259976812.csv',delimiter=',')"
   ]
  },
  {
   "cell_type": "code",
   "execution_count": null,
   "id": "environmental-twins",
   "metadata": {
    "scrolled": true
   },
   "outputs": [],
   "source": []
  },
  {
   "cell_type": "code",
   "execution_count": null,
   "id": "forbidden-unknown",
   "metadata": {},
   "outputs": [],
   "source": [
    "#image_frame_times.columns\n",
    "stim_presentation_times.values.shape\n",
    "image_frame_times.[, :]\n",
    "\n",
    "# choose an integration time W \n",
    "\n",
    "# pick a region\n",
    "\n",
    "# pick a set of electrodes N_e\n",
    "\n",
    "# pick an image presented\n",
    "\n",
    "# get time of presentation t_stim\n",
    "\n",
    "# get spike times for N_e electrodes that are between t_stim and t_stim + W"
   ]
  },
  {
   "cell_type": "code",
   "execution_count": null,
   "id": "superb-tumor",
   "metadata": {},
   "outputs": [],
   "source": []
  },
  {
   "cell_type": "code",
   "execution_count": null,
   "id": "atomic-ridge",
   "metadata": {},
   "outputs": [],
   "source": [
    "\n",
    "images.shape\n",
    "\n",
    "#idx = 2\n",
    "#plt.imshow(filters[idx,:].reshape(v_res, h_res))\n",
    "#plt.plot(np.linalg.norm(filters,axis=1))\n",
    "#np.max(filters)\n",
    "#plt.show()"
   ]
  },
  {
   "cell_type": "code",
   "execution_count": null,
   "id": "dimensional-magnet",
   "metadata": {},
   "outputs": [],
   "source": [
    "# nwb files download: (~500 gigs!)\n",
    "# dandi download https://dandiarchive.org/dandiset/000021/draft\n",
    "# https://gui.dandiarchive.org/#/dandiset/000021/draft\n",
    "# nwb_files_location = \"C:\\\\Users\\\\fritz\\\\000021\"\n",
    "# subject = \"sub-776061236\"   \n",
    "# file = \"sub-776061236_ses-797828357.nwb\"\n",
    "# io = pynwb.NWBHDF5IO(nwb_files_location + '\\\\' + subject + '\\\\' + file, 'r', load_namespaces=True)\n",
    "# io.read()"
   ]
  }
 ],
 "metadata": {
  "kernelspec": {
   "display_name": "Python 3",
   "language": "python",
   "name": "python3"
  },
  "language_info": {
   "codemirror_mode": {
    "name": "ipython",
    "version": 3
   },
   "file_extension": ".py",
   "mimetype": "text/x-python",
   "name": "python",
   "nbconvert_exporter": "python",
   "pygments_lexer": "ipython3",
   "version": "3.6.12"
  }
 },
 "nbformat": 4,
 "nbformat_minor": 5
}
